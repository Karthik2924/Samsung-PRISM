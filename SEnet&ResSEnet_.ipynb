{
  "nbformat": 4,
  "nbformat_minor": 0,
  "metadata": {
    "colab": {
      "name": "SEnet&ResSEnet .ipynb",
      "provenance": [],
      "collapsed_sections": []
    },
    "kernelspec": {
      "display_name": "Python 3",
      "name": "python3"
    },
    "accelerator": "GPU"
  },
  "cells": [
    {
      "cell_type": "code",
      "metadata": {
        "colab": {
          "base_uri": "https://localhost:8080/"
        },
        "id": "bJTeDzkQVYqb",
        "outputId": "cadff7a7-292c-42ae-9fa4-a3aefcfb460e"
      },
      "source": [
        "! pip install librosa\r\n",
        "! pip install soundfile"
      ],
      "execution_count": null,
      "outputs": [
        {
          "output_type": "stream",
          "text": [
            "Requirement already satisfied: librosa in /usr/local/lib/python3.6/dist-packages (0.6.3)\n",
            "Requirement already satisfied: scikit-learn!=0.19.0,>=0.14.0 in /usr/local/lib/python3.6/dist-packages (from librosa) (0.22.2.post1)\n",
            "Requirement already satisfied: numba>=0.38.0 in /usr/local/lib/python3.6/dist-packages (from librosa) (0.48.0)\n",
            "Requirement already satisfied: joblib>=0.12 in /usr/local/lib/python3.6/dist-packages (from librosa) (1.0.0)\n",
            "Requirement already satisfied: numpy>=1.8.0 in /usr/local/lib/python3.6/dist-packages (from librosa) (1.19.5)\n",
            "Requirement already satisfied: audioread>=2.0.0 in /usr/local/lib/python3.6/dist-packages (from librosa) (2.1.9)\n",
            "Requirement already satisfied: scipy>=1.0.0 in /usr/local/lib/python3.6/dist-packages (from librosa) (1.4.1)\n",
            "Requirement already satisfied: six>=1.3 in /usr/local/lib/python3.6/dist-packages (from librosa) (1.15.0)\n",
            "Requirement already satisfied: resampy>=0.2.0 in /usr/local/lib/python3.6/dist-packages (from librosa) (0.2.2)\n",
            "Requirement already satisfied: decorator>=3.0.0 in /usr/local/lib/python3.6/dist-packages (from librosa) (4.4.2)\n",
            "Requirement already satisfied: setuptools in /usr/local/lib/python3.6/dist-packages (from numba>=0.38.0->librosa) (51.1.2)\n",
            "Requirement already satisfied: llvmlite<0.32.0,>=0.31.0dev0 in /usr/local/lib/python3.6/dist-packages (from numba>=0.38.0->librosa) (0.31.0)\n",
            "Requirement already satisfied: soundfile in /usr/local/lib/python3.6/dist-packages (0.10.3.post1)\n",
            "Requirement already satisfied: cffi>=1.0 in /usr/local/lib/python3.6/dist-packages (from soundfile) (1.14.4)\n",
            "Requirement already satisfied: pycparser in /usr/local/lib/python3.6/dist-packages (from cffi>=1.0->soundfile) (2.20)\n"
          ],
          "name": "stdout"
        }
      ]
    },
    {
      "cell_type": "code",
      "metadata": {
        "id": "5aDLSZZRVeLV"
      },
      "source": [
        "import librosa\n",
        "\n",
        "audio_path = '/content/drive/MyDrive/ASVspoof2019-master.zip (Unzipped Files)/shortdataset/bonafide/LA_D_1173765.flac'\n",
        "x , sr = librosa.load(audio_path)"
      ],
      "execution_count": null,
      "outputs": []
    },
    {
      "cell_type": "code",
      "metadata": {
        "colab": {
          "base_uri": "https://localhost:8080/"
        },
        "id": "wEYmMTkc0T9H",
        "outputId": "f1a9fe28-6ce9-4d5c-f49d-3c8c45e6167a"
      },
      "source": [
        "print(x.shape, sr)"
      ],
      "execution_count": null,
      "outputs": [
        {
          "output_type": "stream",
          "text": [
            "(46143,) 22050\n"
          ],
          "name": "stdout"
        }
      ]
    },
    {
      "cell_type": "code",
      "metadata": {
        "colab": {
          "base_uri": "https://localhost:8080/",
          "height": 67
        },
        "id": "nIXiNvTI1Q2N",
        "outputId": "a85588aa-316d-4ca8-b870-f7a4fbb20fc4"
      },
      "source": [
        "import numpy as np\n",
        "from matplotlib import pyplot as plt\n",
        "import scipy.io.wavfile as wav\n",
        "import soundfile as sf \n",
        "from numpy.lib import stride_tricks\n",
        "\n",
        "\"\"\" short time fourier transform of audio signal \"\"\"\n",
        "def stft(sig, frameSize, overlapFac=0.5, window=np.hanning):\n",
        "    win = window(frameSize)\n",
        "    hopSize = int(frameSize - np.floor(overlapFac * frameSize))\n",
        "\n",
        "    # zeros at beginning (thus center of 1st window should be for sample nr. 0)   \n",
        "    samples = np.append(np.zeros(int(np.floor(frameSize/2.0))), sig)    \n",
        "    # cols for windowing\n",
        "    cols = np.ceil( (len(samples) - frameSize) / float(hopSize)) + 1\n",
        "    # zeros at end (thus samples can be fully covered by frames)\n",
        "    samples = np.append(samples, np.zeros(frameSize))\n",
        "\n",
        "    frames = stride_tricks.as_strided(samples, shape=(int(cols), frameSize), strides=(samples.strides[0]*hopSize, samples.strides[0])).copy()\n",
        "    frames *= win\n",
        "\n",
        "    return np.fft.rfft(frames)    \n",
        "\n",
        "\"\"\" scale frequency axis logarithmically \"\"\"    \n",
        "def logscale_spec(spec, sr=44100, factor=20.):\n",
        "    timebins, freqbins = np.shape(spec)\n",
        "\n",
        "    scale = np.linspace(0, 1, freqbins) ** factor\n",
        "    scale *= (freqbins-1)/max(scale)\n",
        "    scale = np.unique(np.round(scale))\n",
        "\n",
        "    # create spectrogram with new freq bins\n",
        "    newspec = np.complex128(np.zeros([timebins, len(scale)]))\n",
        "    for i in range(0, len(scale)):        \n",
        "        if i == len(scale)-1:\n",
        "            newspec[:,i] = np.sum(spec[:,int(scale[i]):], axis=1)\n",
        "        else:        \n",
        "            newspec[:,i] = np.sum(spec[:,int(scale[i]):int(scale[i+1])], axis=1)\n",
        "\n",
        "    # list center freq of bins\n",
        "    allfreqs = np.abs(np.fft.fftfreq(freqbins*2, 1./sr)[:freqbins+1])\n",
        "    freqs = []\n",
        "    for i in range(0, len(scale)):\n",
        "        if i == len(scale)-1:\n",
        "            freqs += [np.mean(allfreqs[int(scale[i]):])]\n",
        "        else:\n",
        "            freqs += [np.mean(allfreqs[int(scale[i]):int(scale[i+1])])]\n",
        "\n",
        "    return newspec, freqs\n",
        "\n",
        "\"\"\" plot spectrogram\"\"\"\n",
        "def plotstft(audiopath, binsize=2**10, plotpath=None, colormap=\"jet\"):\n",
        "    samples, samplerate =  sf.read(audiopath)\n",
        "\n",
        "    s = stft(samples, binsize)\n",
        "\n",
        "    sshow, freq = logscale_spec(s, factor=1.0, sr=samplerate)\n",
        "\n",
        "    ims = 20.*np.log10(np.abs(sshow)/10e-6) # amplitude to decibel\n",
        "\n",
        "    timebins, freqbins = np.shape(ims)\n",
        "\n",
        "    print(\"timebins: \", timebins)\n",
        "    print(\"freqbins: \", freqbins)\n",
        "\n",
        "    plt.figure(figsize=(15, 7.5))\n",
        "    plt.imshow(np.transpose(ims), origin=\"lower\", aspect=\"auto\", cmap=colormap, interpolation=\"none\")\n",
        "    # plt.colorbar()\n",
        "\n",
        "    plt.xlabel(\"time (s)\").set_visible(False)\n",
        "    plt.ylabel(\"frequency (hz)\").set_visible(False)\n",
        "    # plt.xlim([0, timebins-1]).set_visible(False)\n",
        "    # plt.ylim([0, freqbins]).set_visible(False)\n",
        "\n",
        "    xlocs = np.float32(np.linspace(0, timebins-1, 5))\n",
        "    plt.xticks(xlocs, [\"%.02f\" % l for l in ((xlocs*len(samples)/timebins)+(0.5*binsize))/samplerate])\n",
        "    ylocs = np.int16(np.round(np.linspace(0, freqbins-1, 10)))\n",
        "    plt.yticks(ylocs, [\"%.02f\" % freq[i] for i in ylocs])\n",
        "\n",
        "    if plotpath:\n",
        "        plt.axis('off')\n",
        "        plt.savefig(plotpath,bbox_inches=\"tight\", pad_inches=0)\n",
        "    else:\n",
        "        plt.show()\n",
        "\n",
        "    plt.clf()\n",
        "\n",
        "    return ims\n",
        "\n",
        "ims = plotstft(audio_path, plotpath=\"/content/drive/MyDrive/ASVspoof2019-master.zip (Unzipped Files)/img1.png\")"
      ],
      "execution_count": null,
      "outputs": [
        {
          "output_type": "stream",
          "text": [
            "timebins:  66\n",
            "freqbins:  513\n"
          ],
          "name": "stdout"
        },
        {
          "output_type": "display_data",
          "data": {
            "text/plain": [
              "<Figure size 1080x540 with 0 Axes>"
            ]
          },
          "metadata": {
            "tags": []
          }
        }
      ]
    },
    {
      "cell_type": "code",
      "metadata": {
        "colab": {
          "base_uri": "https://localhost:8080/"
        },
        "id": "UrKpnCgrfQQF",
        "outputId": "d064dfc9-4ed9-4b84-a435-a2b71ce13836"
      },
      "source": [
        "import cv2\r\n",
        " \r\n",
        "# read image\r\n",
        "img = cv2.imread('/content/drive/MyDrive/ASVspoof2019-master.zip (Unzipped Files)/img.png', cv2.IMREAD_UNCHANGED)\r\n",
        " \r\n",
        "# get dimensions of image\r\n",
        "dimensions = img.shape\r\n",
        " \r\n",
        "# height, width, number of channels in image\r\n",
        "height = img.shape[0]\r\n",
        "width = img.shape[1]\r\n",
        "channels = img.shape[2]\r\n",
        " \r\n",
        "print('Image Dimension    : ',dimensions)\r\n",
        "print('Image Height       : ',height)\r\n",
        "print('Image Width        : ',width)\r\n",
        "print('Number of Channels : ',channels)"
      ],
      "execution_count": null,
      "outputs": [
        {
          "output_type": "stream",
          "text": [
            "Image Dimension    :  (407, 837, 4)\n",
            "Image Height       :  407\n",
            "Image Width        :  837\n",
            "Number of Channels :  4\n"
          ],
          "name": "stdout"
        }
      ]
    },
    {
      "cell_type": "code",
      "metadata": {
        "id": "fUaVBp_91fsN"
      },
      "source": [
        "\n",
        "# feature extractoring and preprocessing data\n",
        "import librosa\n",
        "import pandas as pd\n",
        "import numpy as np\n",
        "import matplotlib.pyplot as plt\n",
        "%matplotlib inline\n",
        "import os\n",
        "from PIL import Image\n",
        "import pathlib\n",
        "import csv\n",
        "\n",
        "# Preprocessing\n",
        "from sklearn.model_selection import train_test_split\n",
        "from sklearn.preprocessing import LabelEncoder, StandardScaler\n",
        "\n",
        "#Keras\n",
        "import keras\n",
        "\n",
        "import warnings\n",
        "warnings.filterwarnings('ignore')\n",
        "import matplotlib.pyplot as plt\n",
        "from google.colab import files"
      ],
      "execution_count": null,
      "outputs": []
    },
    {
      "cell_type": "code",
      "metadata": {
        "id": "iFBczTv9C9J_"
      },
      "source": [
        "cmap = plt.get_cmap('inferno')\n",
        "\n",
        "plt.figure(figsize=(10,10))\n",
        "genres = 'bonafide spoof'.split()\n",
        "for g in genres:\n",
        "    pathlib.Path(f'/content/drive/MyDrive/ASVspoof2019-master.zip (Unzipped Files)/shortdataset/{g}').mkdir(parents=True, exist_ok=True)     \n",
        "    for filename in os.listdir(f'/content/drive/MyDrive/ASVspoof2019-master.zip (Unzipped Files)/shortdataset/{g}'):\n",
        "        songname = f'/content/drive/MyDrive/ASVspoof2019-master.zip (Unzipped Files)/shortdataset/{g}/{filename}'\n",
        "         y, sr = librosa.load(songname, mono=True, duration=5)\n",
        "        # plt.specgram(y, NFFT=2048, Fs=2, Fc=0, noverlap=128, cmap=cmap, sides='default', mode='default', scale='dB');\n",
        "        # plt.axis('off');\n",
        "        #plt.show()\n",
        "        # plt.savefig(f'/content/drive/My Drive/ASVspoof2019-master.zip (Unzipped Files)/img_data/{g}/{filename[:-3].replace(\".\", \"\")}.png')\n",
        "        #files.download(f'/content/drive/My Drive/ASVspoof2019-master.zip (Unzipped Files)/img_data/{g}/{filename[:-3].replace(\".\", \"\")}.png')\n",
        "        #break;\n",
        "        ims = plotstft(songname, plotpath=f'/content/drive/My Drive/ASVspoof2019-master.zip (Unzipped Files)/img_data/{g}/{filename[:-3].replace(\".\", \"\")}.png')\n",
        "        plt.clf()"
      ],
      "execution_count": null,
      "outputs": []
    },
    {
      "cell_type": "code",
      "metadata": {
        "id": "vt-ufgfDoXP1"
      },
      "source": [
        "# Import Libraries\r\n",
        "import torch\r\n",
        "import torchvision\r\n",
        "import torchvision.transforms as transforms\r\n",
        "import torchvision.datasets as datasets\r\n",
        "import torchvision.models as models\r\n",
        "import torch.nn as nn\r\n",
        "import torch.optim as optim\r\n",
        "import numpy as np\r\n",
        "from PIL import Image\r\n",
        "import numpy as np\r\n",
        "import matplotlib.pyplot as plt"
      ],
      "execution_count": null,
      "outputs": []
    },
    {
      "cell_type": "code",
      "metadata": {
        "id": "rhzWdy_0oY1z"
      },
      "source": [
        "# Specify transforms using torchvision.transforms as transforms\r\n",
        "# library\r\n",
        "transformations = transforms.Compose([\r\n",
        "    transforms.Resize((32,32)),\r\n",
        "    transforms.ToTensor(),\r\n",
        "    transforms.Normalize(mean=[0.485, 0.456, 0.406], std=[0.229, 0.224, 0.225])\r\n",
        "])"
      ],
      "execution_count": null,
      "outputs": []
    },
    {
      "cell_type": "code",
      "metadata": {
        "id": "dHdBofFDyAQh"
      },
      "source": [
        "train_set = datasets.ImageFolder(\"/content/drive/MyDrive/ASVspoof2019-master.zip (Unzipped Files)/img_data\", transform = transformations)"
      ],
      "execution_count": null,
      "outputs": []
    },
    {
      "cell_type": "code",
      "metadata": {
        "id": "iiN3GwOVyT9A"
      },
      "source": [
        "train_loader = torch.utils.data.DataLoader(train_set, batch_size=2, shuffle=True)"
      ],
      "execution_count": null,
      "outputs": []
    },
    {
      "cell_type": "code",
      "metadata": {
        "colab": {
          "base_uri": "https://localhost:8080/",
          "height": 338
        },
        "id": "A-eairRz3YdX",
        "outputId": "e3ae066d-d86c-4173-fca6-542d32700ad7"
      },
      "source": [
        "for images, labels in train_loader:\r\n",
        "    \r\n",
        "    fig, ax = plt.subplots(figsize = (10, 10))\r\n",
        "    ax.set_xticks([])\r\n",
        "    ax.set_yticks([])\r\n",
        "    ax.imshow(torchvision.utils.make_grid(images, 4).permute(1,2,0))\r\n",
        "    break"
      ],
      "execution_count": null,
      "outputs": [
        {
          "output_type": "stream",
          "text": [
            "Clipping input data to the valid range for imshow with RGB data ([0..1] for floats or [0..255] for integers).\n"
          ],
          "name": "stderr"
        },
        {
          "output_type": "display_data",
          "data": {
            "image/png": "[encoded data removed]",
            "text/plain": [
              "<Figure size 720x720 with 1 Axes>"
            ]
          },
          "metadata": {
            "tags": []
          }
        }
      ]
    },
    {
      "cell_type": "code",
      "metadata": {
        "colab": {
          "base_uri": "https://localhost:8080/",
          "height": 256
        },
        "id": "MsmmTRYYfNMn",
        "outputId": "64a86873-3c6d-46e6-b1e0-2902c611aa15"
      },
      "source": [
        "import matplotlib.pyplot as plt\r\n",
        "import numpy as np\r\n",
        "\r\n",
        "# functions to show an image\r\n",
        "\r\n",
        "classes=[\"bonafide\", \"spoof\"]\r\n",
        "def imshow(img):\r\n",
        "    img = img / 2 + 0.5     # unnormalize\r\n",
        "    npimg = img.numpy()\r\n",
        "    plt.imshow(np.transpose(npimg, (1, 2, 0)))\r\n",
        "    plt.show()\r\n",
        "\r\n",
        "\r\n",
        "# get some random training images\r\n",
        "dataiter = iter(train_loader)\r\n",
        "images, labels = dataiter.next()\r\n",
        "\r\n",
        "# show images\r\n",
        "imshow(torchvision.utils.make_grid(images))\r\n",
        "\r\n",
        "# print labels\r\n",
        "print(' '.join('%5s' % classes[labels[j]] for j in range(2)))"
      ],
      "execution_count": null,
      "outputs": [
        {
          "output_type": "stream",
          "text": [
            "Clipping input data to the valid range for imshow with RGB data ([0..1] for floats or [0..255] for integers).\n"
          ],
          "name": "stderr"
        },
        {
          "output_type": "display_data",
          "data": {
            "image/png": "[encoded data removed]",
            "text/plain": [
              "<Figure size 432x288 with 1 Axes>"
            ]
          },
          "metadata": {
            "tags": [],
            "needs_background": "light"
          }
        },
        {
          "output_type": "stream",
          "text": [
            "spoof bonafide\n"
          ],
          "name": "stdout"
        }
      ]
    },
    {
      "cell_type": "code",
      "metadata": {
        "colab": {
          "base_uri": "https://localhost:8080/"
        },
        "id": "QozDLfBB_ggM",
        "outputId": "742cf213-7846-410d-f83f-4bce410637ac"
      },
      "source": [
        "dataiter = iter(train_loader)\r\n",
        "images, labels = dataiter.next()\r\n",
        "print(images[0].shape)"
      ],
      "execution_count": null,
      "outputs": [
        {
          "output_type": "stream",
          "text": [
            "torch.Size([3, 32, 32])\n"
          ],
          "name": "stdout"
        }
      ]
    },
    {
      "cell_type": "code",
      "metadata": {
        "id": "5Sz2DbDR2knV"
      },
      "source": [
        "import torch\r\n",
        "from torch import nn\r\n",
        "import torch.nn.functional as F\r\n",
        "\r\n",
        "# Squeeze and Excitation Block Module\r\n",
        "class SEBlock(nn.Module):\r\n",
        "    def __init__(self, channels, reduction=16):\r\n",
        "        super(SEBlock, self).__init__()\r\n",
        "\r\n",
        "        self.fc = nn.Sequential(\r\n",
        "            nn.Conv2d(channels, channels // reduction, 1, bias=False),\r\n",
        "            nn.ReLU(),\r\n",
        "            nn.Conv2d(channels // reduction, channels * 2, 1, bias=False),\r\n",
        "        )\r\n",
        "\r\n",
        "    def forward(self, x):\r\n",
        "        w = F.adaptive_avg_pool2d(x, 1) # Squeeze\r\n",
        "        w = self.fc(x)\r\n",
        "        w, b = w.split(w.data.size(1) // 2, dim=1) # Excitation\r\n",
        "        w = torch.sigmoid(w)\r\n",
        "\r\n",
        "        return x * w + b # Scale and add bias\r\n",
        "\r\n",
        "# Residual Block with SEBlock\r\n",
        "class ResBlock(nn.Module):\r\n",
        "    def __init__(self, channels):\r\n",
        "        super(ResBlock, self).__init__()\r\n",
        "\r\n",
        "        self.conv_lower = nn.Sequential(\r\n",
        "            nn.Conv2d(channels, channels, 3, padding=1, bias=False),\r\n",
        "            nn.BatchNorm2d(channels),\r\n",
        "            nn.ReLU()\r\n",
        "        )\r\n",
        "\r\n",
        "        self.conv_upper = nn.Sequential(\r\n",
        "            nn.Conv2d(channels, channels, 3, padding=1, bias=False),\r\n",
        "            nn.BatchNorm2d(channels)\r\n",
        "        )\r\n",
        "\r\n",
        "        self.se_block = SEBlock(channels)\r\n",
        "\r\n",
        "    def forward(self, x):\r\n",
        "        # path = self.conv_lower(x)\r\n",
        "        # path = self.conv_upper(path)\r\n",
        "\r\n",
        "        path = self.se_block(x)\r\n",
        "\r\n",
        "        path = x + path\r\n",
        "        return F.relu(path)\r\n",
        "\r\n",
        "# Network Module\r\n",
        "class Network(nn.Module):\r\n",
        "    def __init__(self, in_channel, filters, blocks, num_classes):\r\n",
        "        super(Network, self).__init__()\r\n",
        "\r\n",
        "        self.conv_block = nn.Sequential(\r\n",
        "            nn.Conv2d(in_channel, filters, 3, padding=1, bias=False),\r\n",
        "            nn.BatchNorm2d(filters),\r\n",
        "            nn.ReLU()\r\n",
        "        )\r\n",
        "\r\n",
        "        self.res_blocks = nn.Sequential(*[ResBlock(filters) for _ in range(blocks - 1)])\r\n",
        "\r\n",
        "        self.out_conv = nn.Sequential(\r\n",
        "            nn.Conv2d(filters, 128, 1, padding=0, bias=False),\r\n",
        "            nn.BatchNorm2d(128),\r\n",
        "            nn.ReLU()\r\n",
        "        )\r\n",
        "\r\n",
        "        self.fc = nn.Linear(128, num_classes)\r\n",
        "        self.se_block = SEBlock(filters)\r\n",
        "\r\n",
        "    def forward(self, x):\r\n",
        "        x = self.conv_block(x)\r\n",
        "        x = self.se_block(x)\r\n",
        "        \r\n",
        "        x = self.out_conv(x)\r\n",
        "        x = F.adaptive_avg_pool2d(x, 1)\r\n",
        "\r\n",
        "        x = x.view(x.data.size(0), -1)\r\n",
        "        x = self.fc(x)\r\n",
        "\r\n",
        "        return F.log_softmax(x, dim=1)"
      ],
      "execution_count": null,
      "outputs": []
    },
    {
      "cell_type": "code",
      "metadata": {
        "id": "eYa0c5B4bft6"
      },
      "source": [
        "net = Network(3, 128, 2, 2).cuda()"
      ],
      "execution_count": null,
      "outputs": []
    },
    {
      "cell_type": "markdown",
      "metadata": {
        "id": "XdKpgw2taToE"
      },
      "source": [
        ""
      ]
    },
    {
      "cell_type": "code",
      "metadata": {
        "id": "P48ou52NHZx2"
      },
      "source": [
        "\n",
        "import torch\n",
        "from torch import nn, optim\n",
        "from torch.autograd import Variable\n",
        "import torch.nn.functional as F\n",
        "\n",
        "from torch.utils.data import DataLoader\n",
        "from torchvision.datasets import CIFAR10\n",
        "from torchvision import transforms\n",
        "\n",
        "\n",
        "import time\n",
        "\n",
        "EPOCHS = 40\n",
        "BATCH_SIZE = 32\n",
        "LEARNING_RATE = 1e-1\n",
        "WEIGHT_DECAY = 1e-4"
      ],
      "execution_count": null,
      "outputs": []
    },
    {
      "cell_type": "code",
      "metadata": {
        "id": "VaYz_ig2G82H"
      },
      "source": [
        "ACE = nn.CrossEntropyLoss().cuda()"
      ],
      "execution_count": null,
      "outputs": []
    },
    {
      "cell_type": "code",
      "metadata": {
        "colab": {
          "base_uri": "https://localhost:8080/"
        },
        "id": "7BATvJitHCRr",
        "outputId": "826e58a1-33a4-41d3-f87c-dbdc2d043f7d"
      },
      "source": [
        "opt = optim.SGD(net.parameters(), lr=LEARNING_RATE, weight_decay=WEIGHT_DECAY, momentum=.9, nesterov=True)\n",
        "\n",
        "for epoch in range(1, EPOCHS + 1):\n",
        "    print('[Epoch %d]' % epoch)\n",
        "    \n",
        "    train_loss = 0\n",
        "    train_correct, train_total = 0, 0\n",
        "\n",
        "    start_point = time.time()\n",
        "\n",
        "    for inputs, labels in train_loader:\n",
        "        inputs, labels = Variable(inputs).cuda(), Variable(labels).cuda()\n",
        "\n",
        "\n",
        "        opt.zero_grad()\n",
        "\n",
        "        preds = net(inputs)\n",
        "        \n",
        "        loss = ACE(preds, labels)\n",
        "        loss.backward()\n",
        "\n",
        "        opt.step()\n",
        "\n",
        "        train_loss += loss.item()\n",
        "\n",
        "        train_correct += (preds.argmax(dim=1) == labels).sum().item()\n",
        "        train_total += len(preds)\n",
        "\n",
        "    print('train-acc : %.4f%% train-loss : %.5f' % (100 * train_correct / train_total, train_loss / len(train_loader)))\n",
        "    print('elapsed time: %ds' % (time.time() - start_point))\n",
        "\n",
        "    test_loss = 0\n",
        "    test_correct, test_total = 0, 0\n",
        "    \n"
      ],
      "execution_count": null,
      "outputs": [
        {
          "output_type": "stream",
          "text": [
            "[Epoch 1]\n",
            "train-acc : 62.2500% train-loss : 0.74613\n",
            "elapsed time: 110s\n",
            "[Epoch 2]\n",
            "train-acc : 74.7500% train-loss : 0.53292\n",
            "elapsed time: 5s\n",
            "[Epoch 3]\n",
            "train-acc : 95.5000% train-loss : 0.15219\n",
            "elapsed time: 5s\n",
            "[Epoch 4]\n",
            "train-acc : 99.0000% train-loss : 0.04387\n",
            "elapsed time: 5s\n",
            "[Epoch 5]\n",
            "train-acc : 97.2500% train-loss : 0.06600\n",
            "elapsed time: 5s\n",
            "[Epoch 6]\n",
            "train-acc : 99.7500% train-loss : 0.00892\n",
            "elapsed time: 5s\n",
            "[Epoch 7]\n",
            "train-acc : 100.0000% train-loss : 0.00374\n",
            "elapsed time: 5s\n",
            "[Epoch 8]\n",
            "train-acc : 100.0000% train-loss : 0.00268\n",
            "elapsed time: 5s\n",
            "[Epoch 9]\n",
            "train-acc : 100.0000% train-loss : 0.00625\n",
            "elapsed time: 5s\n",
            "[Epoch 10]\n",
            "train-acc : 100.0000% train-loss : 0.00279\n",
            "elapsed time: 5s\n",
            "[Epoch 11]\n",
            "train-acc : 99.7500% train-loss : 0.00718\n",
            "elapsed time: 5s\n",
            "[Epoch 12]\n",
            "train-acc : 100.0000% train-loss : 0.00178\n",
            "elapsed time: 5s\n",
            "[Epoch 13]\n",
            "train-acc : 100.0000% train-loss : 0.00232\n",
            "elapsed time: 5s\n",
            "[Epoch 14]\n",
            "train-acc : 100.0000% train-loss : 0.00384\n",
            "elapsed time: 5s\n",
            "[Epoch 15]\n",
            "train-acc : 95.7500% train-loss : 0.14099\n",
            "elapsed time: 5s\n",
            "[Epoch 16]\n",
            "train-acc : 96.5000% train-loss : 0.11971\n",
            "elapsed time: 5s\n",
            "[Epoch 17]\n",
            "train-acc : 99.2500% train-loss : 0.03820\n",
            "elapsed time: 5s\n",
            "[Epoch 18]\n",
            "train-acc : 99.5000% train-loss : 0.01893\n",
            "elapsed time: 5s\n",
            "[Epoch 19]\n",
            "train-acc : 99.7500% train-loss : 0.02375\n",
            "elapsed time: 5s\n",
            "[Epoch 20]\n",
            "train-acc : 100.0000% train-loss : 0.00275\n",
            "elapsed time: 5s\n",
            "[Epoch 21]\n",
            "train-acc : 100.0000% train-loss : 0.00322\n",
            "elapsed time: 5s\n",
            "[Epoch 22]\n",
            "train-acc : 100.0000% train-loss : 0.00424\n",
            "elapsed time: 5s\n",
            "[Epoch 23]\n",
            "train-acc : 100.0000% train-loss : 0.00295\n",
            "elapsed time: 5s\n",
            "[Epoch 24]\n",
            "train-acc : 100.0000% train-loss : 0.00222\n",
            "elapsed time: 5s\n",
            "[Epoch 25]\n",
            "train-acc : 100.0000% train-loss : 0.00167\n",
            "elapsed time: 5s\n",
            "[Epoch 26]\n",
            "train-acc : 97.5000% train-loss : 0.09547\n",
            "elapsed time: 5s\n",
            "[Epoch 27]\n",
            "train-acc : 99.5000% train-loss : 0.01911\n",
            "elapsed time: 5s\n",
            "[Epoch 28]\n",
            "train-acc : 100.0000% train-loss : 0.00608\n",
            "elapsed time: 5s\n",
            "[Epoch 29]\n",
            "train-acc : 100.0000% train-loss : 0.00351\n",
            "elapsed time: 5s\n",
            "[Epoch 30]\n",
            "train-acc : 100.0000% train-loss : 0.00302\n",
            "elapsed time: 5s\n",
            "[Epoch 31]\n",
            "train-acc : 100.0000% train-loss : 0.00367\n",
            "elapsed time: 5s\n",
            "[Epoch 32]\n",
            "train-acc : 100.0000% train-loss : 0.00183\n",
            "elapsed time: 5s\n",
            "[Epoch 33]\n",
            "train-acc : 100.0000% train-loss : 0.00132\n",
            "elapsed time: 5s\n",
            "[Epoch 34]\n",
            "train-acc : 100.0000% train-loss : 0.00161\n",
            "elapsed time: 5s\n",
            "[Epoch 35]\n",
            "train-acc : 100.0000% train-loss : 0.00170\n",
            "elapsed time: 5s\n",
            "[Epoch 36]\n",
            "train-acc : 100.0000% train-loss : 0.00171\n",
            "elapsed time: 5s\n",
            "[Epoch 37]\n",
            "train-acc : 100.0000% train-loss : 0.00119\n",
            "elapsed time: 5s\n",
            "[Epoch 38]\n",
            "train-acc : 100.0000% train-loss : 0.00531\n",
            "elapsed time: 5s\n",
            "[Epoch 39]\n",
            "train-acc : 100.0000% train-loss : 0.00191\n",
            "elapsed time: 5s\n",
            "[Epoch 40]\n",
            "train-acc : 100.0000% train-loss : 0.00141\n",
            "elapsed time: 5s\n"
          ],
          "name": "stdout"
        }
      ]
    },
    {
      "cell_type": "code",
      "metadata": {
        "id": "OujLZtHHLTjO"
      },
      "source": [
        "data = data.drop(['filename'],axis=1)"
      ],
      "execution_count": null,
      "outputs": []
    },
    {
      "cell_type": "code",
      "metadata": {
        "colab": {
          "base_uri": "https://localhost:8080/"
        },
        "id": "nvZE68MuMxqI",
        "outputId": "8c709e6d-36b9-4ea6-8ba3-fff4e82ace5c"
      },
      "source": [
        "genre_list = data.iloc[:, -1]\n",
        "print (genre_list)\n",
        "encoder = LabelEncoder()\n",
        "y = encoder.fit_transform(genre_list)\n",
        "print(y)"
      ],
      "execution_count": null,
      "outputs": [
        {
          "output_type": "stream",
          "text": [
            "0       bonafide\n",
            "1       bonafide\n",
            "2       bonafide\n",
            "3       bonafide\n",
            "4       bonafide\n",
            "          ...   \n",
            "5091       spoof\n",
            "5092       spoof\n",
            "5093       spoof\n",
            "5094       spoof\n",
            "5095       spoof\n",
            "Name: label, Length: 5096, dtype: object\n",
            "[0 0 0 ... 1 1 1]\n"
          ],
          "name": "stdout"
        }
      ]
    },
    {
      "cell_type": "code",
      "metadata": {
        "colab": {
          "base_uri": "https://localhost:8080/"
        },
        "id": "zVw491tmMyyG",
        "outputId": "f54a8c9c-a9f8-4e80-b9fc-ce6caf1307e2"
      },
      "source": [
        "scaler = StandardScaler()\n",
        "X = scaler.fit_transform(np.array(data.iloc[:, :-1], dtype = float))\n",
        "print(X)"
      ],
      "execution_count": null,
      "outputs": [
        {
          "output_type": "stream",
          "text": [
            "[[ 0.93881984  1.          0.3855387  ...  1.160581   -0.46293705\n",
            "   1.03593567]\n",
            " [ 0.62178625  1.         -1.14277379 ...  1.64959107  0.25061332\n",
            "   0.86050055]\n",
            " [ 0.638055    1.          1.29036097 ...  0.39032652  0.89676219\n",
            "   1.32807121]\n",
            " ...\n",
            " [-1.79213152  1.          0.79553029 ... -0.83945919 -0.43969481\n",
            "  -1.50527861]\n",
            " [-1.55965784  1.          0.0277664  ... -0.77211212 -0.39361944\n",
            "  -1.22811779]\n",
            " [-0.6958157   1.         -0.60880792 ... -0.88070746 -0.46971143\n",
            "  -1.34522268]]\n"
          ],
          "name": "stdout"
        }
      ]
    },
    {
      "cell_type": "code",
      "metadata": {
        "id": "dbQ9BS-IM5JE"
      },
      "source": [
        "X_train, X_test, y_train, y_test = train_test_split(X, y, test_size=0.2)"
      ],
      "execution_count": null,
      "outputs": []
    },
    {
      "cell_type": "code",
      "metadata": {
        "colab": {
          "base_uri": "https://localhost:8080/"
        },
        "id": "TbTEQQ2fM-Ky",
        "outputId": "23799157-9452-4bb1-de99-4728af67f659"
      },
      "source": [
        "\n",
        "print(len(y_train))\n",
        "\n",
        "print(len(y_test))\n",
        "\n",
        "print(X_train[10])"
      ],
      "execution_count": null,
      "outputs": [
        {
          "output_type": "stream",
          "text": [
            "4076\n",
            "1020\n",
            "[ 0.50338452  1.         -0.48074655  0.27624563 -0.22783712 -0.72099664\n",
            " -1.24130522 -0.1475511   0.15684185 -0.82462869 -0.55817666  0.2779111\n",
            "  0.74838821  0.20056774  0.9560644  -0.9300712   1.01369811  0.42636055\n",
            " -0.88360718  0.71981802 -0.30247152  0.39446585 -0.25131302  0.63211029\n",
            " -0.72666895  0.60482687]\n"
          ],
          "name": "stdout"
        }
      ]
    },
    {
      "cell_type": "code",
      "metadata": {
        "id": "oxgk8d7_NbNT"
      },
      "source": [
        "from keras import models\n",
        "from keras import layers\n",
        "\n",
        "model = models.Sequential()\n",
        "model.add(layers.Dense(256, activation='relu', input_shape=(X_train.shape[1],)))\n",
        "\n",
        "model.add(layers.Dense(128, activation='relu'))\n",
        "\n",
        "model.add(layers.Dense(64, activation='relu'))\n",
        "\n",
        "model.add(layers.Dense(2, activation='softmax'))"
      ],
      "execution_count": null,
      "outputs": []
    },
    {
      "cell_type": "code",
      "metadata": {
        "id": "lvUo2ZZtNkK9"
      },
      "source": [
        "model.compile(optimizer='adam',\n",
        "              loss='sparse_categorical_crossentropy',\n",
        "              metrics=['accuracy'])"
      ],
      "execution_count": null,
      "outputs": []
    },
    {
      "cell_type": "code",
      "metadata": {
        "colab": {
          "base_uri": "https://localhost:8080/"
        },
        "id": "Mqax4KCxNnxp",
        "outputId": "60527baa-3e7a-46e9-b82f-60a10cfb1d2c"
      },
      "source": [
        "history = model.fit(X_train,\n",
        "                    y_train,\n",
        "                    epochs=3,\n",
        "                    batch_size=128)"
      ],
      "execution_count": null,
      "outputs": [
        {
          "output_type": "stream",
          "text": [
            "Epoch 1/3\n",
            "32/32 [==============================] - 0s 3ms/step - loss: 0.1383 - accuracy: 0.9495\n",
            "Epoch 2/3\n",
            "32/32 [==============================] - 0s 3ms/step - loss: 0.0153 - accuracy: 0.9961\n",
            "Epoch 3/3\n",
            "32/32 [==============================] - 0s 3ms/step - loss: 0.0084 - accuracy: 0.9971\n"
          ],
          "name": "stdout"
        }
      ]
    },
    {
      "cell_type": "code",
      "metadata": {
        "colab": {
          "base_uri": "https://localhost:8080/"
        },
        "id": "0dHEOaMtNsmt",
        "outputId": "a8af3e56-62eb-4b1c-d87b-8c3277afb243"
      },
      "source": [
        "test_loss, test_acc = model.evaluate(X_test,y_test)"
      ],
      "execution_count": null,
      "outputs": [
        {
          "output_type": "stream",
          "text": [
            "32/32 [==============================] - 0s 1ms/step - loss: 0.0064 - accuracy: 0.9980\n"
          ],
          "name": "stdout"
        }
      ]
    },
    {
      "cell_type": "code",
      "metadata": {
        "colab": {
          "base_uri": "https://localhost:8080/"
        },
        "id": "CvEEhb_6OG3k",
        "outputId": "0edea95a-ad92-4482-bdd4-dd9dc8062697"
      },
      "source": [
        "print('test_acc: ',test_acc)"
      ],
      "execution_count": null,
      "outputs": [
        {
          "output_type": "stream",
          "text": [
            "test_acc:  0.998039186000824\n"
          ],
          "name": "stdout"
        }
      ]
    },
    {
      "cell_type": "code",
      "metadata": {
        "id": "O87wvoA3OLAi"
      },
      "source": [
        "x_val = X_train[:200]\n",
        "partial_x_train = X_train[200:]\n",
        "\n",
        "y_val = y_train[:200]\n",
        "partial_y_train = y_train[200:]"
      ],
      "execution_count": null,
      "outputs": []
    },
    {
      "cell_type": "code",
      "metadata": {
        "colab": {
          "base_uri": "https://localhost:8080/"
        },
        "id": "Eyxn9Ci7OchH",
        "outputId": "370d9138-9750-4019-a0f2-987298e76d12"
      },
      "source": [
        "\n",
        "model = models.Sequential()\n",
        "model.add(layers.Dense(512, activation='relu', input_shape=(X_train.shape[1],)))\n",
        "model.add(layers.Dense(256, activation='relu'))\n",
        "model.add(layers.Dense(128, activation='relu'))\n",
        "model.add(layers.Dense(64, activation='relu'))\n",
        "model.add(layers.Dense(1, activation='sigmoid'))\n",
        "\n",
        "model.compile(optimizer='adam',\n",
        "              loss='binary_crossentropy',\n",
        "              metrics=['accuracy'])\n",
        "\n",
        "model.fit(partial_x_train,\n",
        "          partial_y_train,\n",
        "          epochs=30,\n",
        "          batch_size=32,\n",
        "          validation_data=(x_val, y_val))\n",
        "results = model.evaluate(X_test, y_test)"
      ],
      "execution_count": null,
      "outputs": [
        {
          "output_type": "stream",
          "text": [
            "Epoch 1/30\n",
            "122/122 [==============================] - 1s 5ms/step - loss: 0.0532 - accuracy: 0.9822 - val_loss: 0.0036 - val_accuracy: 1.0000\n",
            "Epoch 2/30\n",
            "122/122 [==============================] - 1s 4ms/step - loss: 0.0052 - accuracy: 0.9985 - val_loss: 0.0014 - val_accuracy: 1.0000\n",
            "Epoch 3/30\n",
            "122/122 [==============================] - 1s 4ms/step - loss: 0.0060 - accuracy: 0.9977 - val_loss: 2.2716e-04 - val_accuracy: 1.0000\n",
            "Epoch 4/30\n",
            "122/122 [==============================] - 1s 4ms/step - loss: 0.0017 - accuracy: 0.9992 - val_loss: 1.6559e-04 - val_accuracy: 1.0000\n",
            "Epoch 5/30\n",
            "122/122 [==============================] - 1s 4ms/step - loss: 0.0012 - accuracy: 0.9995 - val_loss: 4.0423e-05 - val_accuracy: 1.0000\n",
            "Epoch 6/30\n",
            "122/122 [==============================] - 1s 5ms/step - loss: 1.8096e-04 - accuracy: 1.0000 - val_loss: 2.6656e-05 - val_accuracy: 1.0000\n",
            "Epoch 7/30\n",
            "122/122 [==============================] - 1s 4ms/step - loss: 3.7367e-05 - accuracy: 1.0000 - val_loss: 1.9755e-05 - val_accuracy: 1.0000\n",
            "Epoch 8/30\n",
            "122/122 [==============================] - 1s 5ms/step - loss: 2.2056e-05 - accuracy: 1.0000 - val_loss: 1.5004e-05 - val_accuracy: 1.0000\n",
            "Epoch 9/30\n",
            "122/122 [==============================] - 1s 4ms/step - loss: 1.6181e-05 - accuracy: 1.0000 - val_loss: 1.1774e-05 - val_accuracy: 1.0000\n",
            "Epoch 10/30\n",
            "122/122 [==============================] - 1s 4ms/step - loss: 1.2376e-05 - accuracy: 1.0000 - val_loss: 8.9977e-06 - val_accuracy: 1.0000\n",
            "Epoch 11/30\n",
            "122/122 [==============================] - 1s 4ms/step - loss: 9.7822e-06 - accuracy: 1.0000 - val_loss: 7.4078e-06 - val_accuracy: 1.0000\n",
            "Epoch 12/30\n",
            "122/122 [==============================] - 1s 4ms/step - loss: 7.9204e-06 - accuracy: 1.0000 - val_loss: 6.1051e-06 - val_accuracy: 1.0000\n",
            "Epoch 13/30\n",
            "122/122 [==============================] - 1s 4ms/step - loss: 6.5669e-06 - accuracy: 1.0000 - val_loss: 5.0294e-06 - val_accuracy: 1.0000\n",
            "Epoch 14/30\n",
            "122/122 [==============================] - 1s 4ms/step - loss: 5.4448e-06 - accuracy: 1.0000 - val_loss: 4.2362e-06 - val_accuracy: 1.0000\n",
            "Epoch 15/30\n",
            "122/122 [==============================] - 1s 4ms/step - loss: 4.6361e-06 - accuracy: 1.0000 - val_loss: 3.5739e-06 - val_accuracy: 1.0000\n",
            "Epoch 16/30\n",
            "122/122 [==============================] - 1s 4ms/step - loss: 3.9527e-06 - accuracy: 1.0000 - val_loss: 3.0707e-06 - val_accuracy: 1.0000\n",
            "Epoch 17/30\n",
            "122/122 [==============================] - 1s 4ms/step - loss: 3.3999e-06 - accuracy: 1.0000 - val_loss: 2.6323e-06 - val_accuracy: 1.0000\n",
            "Epoch 18/30\n",
            "122/122 [==============================] - 1s 4ms/step - loss: 2.9631e-06 - accuracy: 1.0000 - val_loss: 2.3332e-06 - val_accuracy: 1.0000\n",
            "Epoch 19/30\n",
            "122/122 [==============================] - 1s 5ms/step - loss: 2.5773e-06 - accuracy: 1.0000 - val_loss: 1.9797e-06 - val_accuracy: 1.0000\n",
            "Epoch 20/30\n",
            "122/122 [==============================] - 1s 4ms/step - loss: 2.2676e-06 - accuracy: 1.0000 - val_loss: 1.7465e-06 - val_accuracy: 1.0000\n",
            "Epoch 21/30\n",
            "122/122 [==============================] - 1s 4ms/step - loss: 1.9952e-06 - accuracy: 1.0000 - val_loss: 1.5644e-06 - val_accuracy: 1.0000\n",
            "Epoch 22/30\n",
            "122/122 [==============================] - 1s 4ms/step - loss: 1.7723e-06 - accuracy: 1.0000 - val_loss: 1.3656e-06 - val_accuracy: 1.0000\n",
            "Epoch 23/30\n",
            "122/122 [==============================] - 1s 5ms/step - loss: 1.5736e-06 - accuracy: 1.0000 - val_loss: 1.2327e-06 - val_accuracy: 1.0000\n",
            "Epoch 24/30\n",
            "122/122 [==============================] - 1s 4ms/step - loss: 1.4025e-06 - accuracy: 1.0000 - val_loss: 1.1003e-06 - val_accuracy: 1.0000\n",
            "Epoch 25/30\n",
            "122/122 [==============================] - 1s 4ms/step - loss: 1.2559e-06 - accuracy: 1.0000 - val_loss: 9.7968e-07 - val_accuracy: 1.0000\n",
            "Epoch 26/30\n",
            "122/122 [==============================] - 1s 4ms/step - loss: 1.1284e-06 - accuracy: 1.0000 - val_loss: 8.8889e-07 - val_accuracy: 1.0000\n",
            "Epoch 27/30\n",
            "122/122 [==============================] - 1s 4ms/step - loss: 1.0149e-06 - accuracy: 1.0000 - val_loss: 7.9664e-07 - val_accuracy: 1.0000\n",
            "Epoch 28/30\n",
            "122/122 [==============================] - 1s 4ms/step - loss: 9.1382e-07 - accuracy: 1.0000 - val_loss: 7.1446e-07 - val_accuracy: 1.0000\n",
            "Epoch 29/30\n",
            "122/122 [==============================] - 1s 4ms/step - loss: 8.2635e-07 - accuracy: 1.0000 - val_loss: 6.4654e-07 - val_accuracy: 1.0000\n",
            "Epoch 30/30\n",
            "122/122 [==============================] - 1s 4ms/step - loss: 7.4557e-07 - accuracy: 1.0000 - val_loss: 5.8704e-07 - val_accuracy: 1.0000\n",
            "32/32 [==============================] - 0s 1ms/step - loss: 3.4270e-05 - accuracy: 1.0000\n"
          ],
          "name": "stdout"
        }
      ]
    },
    {
      "cell_type": "code",
      "metadata": {
        "colab": {
          "base_uri": "https://localhost:8080/"
        },
        "id": "ew17SeNWOiQq",
        "outputId": "35151c61-a6c7-49bc-870d-ad6b9fd94462"
      },
      "source": [
        "predictions = model.predict(X_test)\n",
        "print(y_test[1000])"
      ],
      "execution_count": null,
      "outputs": [
        {
          "output_type": "stream",
          "text": [
            "1\n"
          ],
          "name": "stdout"
        }
      ]
    },
    {
      "cell_type": "code",
      "metadata": {
        "colab": {
          "base_uri": "https://localhost:8080/"
        },
        "id": "8oCZt8oJOvJc",
        "outputId": "f54bf2ec-9d6b-419a-f9d9-3076ee591c94"
      },
      "source": [
        "print(predictions[1000])"
      ],
      "execution_count": null,
      "outputs": [
        {
          "output_type": "stream",
          "text": [
            "[1.]\n"
          ],
          "name": "stdout"
        }
      ]
    },
    {
      "cell_type": "code",
      "metadata": {
        "colab": {
          "base_uri": "https://localhost:8080/",
          "height": 51
        },
        "id": "oufSxB1UO2FI",
        "outputId": "9ebb7005-2fde-4ccb-fbc0-1ad682bd43bb"
      },
      "source": [
        "print(np.sum(predictions[0]))\n",
        "\n",
        "np.argmax(predictions[0])"
      ],
      "execution_count": null,
      "outputs": [
        {
          "output_type": "stream",
          "text": [
            "1.0\n"
          ],
          "name": "stdout"
        },
        {
          "output_type": "execute_result",
          "data": {
            "text/plain": [
              "0"
            ]
          },
          "metadata": {
            "tags": []
          },
          "execution_count": 54
        }
      ]
    },
    {
      "cell_type": "code",
      "metadata": {
        "id": "rW3TAmNUPOer"
      },
      "source": [
        ""
      ],
      "execution_count": null,
      "outputs": []
    }
  ]
}